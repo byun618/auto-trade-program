{
 "cells": [
  {
   "cell_type": "code",
   "execution_count": 10,
   "id": "858ec115",
   "metadata": {},
   "outputs": [],
   "source": [
    "import pyupbit\n",
    "import time\n",
    "import datetime\n",
    "from pyupbit import get_current_price, get_tickers\n",
    "# , get_ohlcv, get_daily_ohlcv_from_base\n",
    "import pandas as pd\n",
    "import warnings\n",
    "warnings.filterwarnings(action='ignore')"
   ]
  },
  {
   "cell_type": "code",
   "execution_count": 2,
   "id": "f5137e0f",
   "metadata": {},
   "outputs": [],
   "source": [
    "def get_k_list(start=0.05, diff=0.05):\n",
    "    out = []\n",
    "    while(start < 1):\n",
    "        out.append(round(start, 2))\n",
    "        start += diff\n",
    "\n",
    "    return out"
   ]
  },
  {
   "cell_type": "code",
   "execution_count": 3,
   "id": "d8da5e3a",
   "metadata": {},
   "outputs": [],
   "source": [
    "def get_ohlcv(ticker, days):\n",
    "    return pyupbit.get_ohlcv(ticker, count=days)"
   ]
  },
  {
   "cell_type": "code",
   "execution_count": 4,
   "id": "7df19850",
   "metadata": {},
   "outputs": [],
   "source": [
    "def get_ohlcv_base(ticker, days, base):\n",
    "    df = pyupbit.get_ohlcv(ticker, interval=\"minute60\", count = days*24)\n",
    "    return df.resample('24H', base=base).agg({\n",
    "        'open': 'first', 'high': 'max', 'low': 'min', 'close': 'last', 'volume': 'sum', 'value': 'sum'\n",
    "    })"
   ]
  },
  {
   "cell_type": "code",
   "execution_count": 5,
   "id": "44a7da85",
   "metadata": {},
   "outputs": [],
   "source": [
    "# 단기 변동성 돌파 전략 v1\n",
    "# 변동성 = 전일 고가 - 전일 저가\n",
    "# 매수 목표 가격 = 변동성 * K\n",
    "# 당일 시세가 목표 가격에 도달하면 매수\n",
    "# 당일 종가에 매도\n",
    "\n",
    "def vbvds_expect_rate_v1(df ,k):\n",
    "    df['diff'] = df['high'] - df['low']\n",
    "    df['target'] = df['diff'].shift(1) * k + df['open'] \n",
    "    df['bought'] = df['high'] > df['target']\n",
    "\n",
    "    cond = df['high'] > df['target']\n",
    "    df['rate'] = df.loc[cond, 'close'] / df.loc[cond, 'target']\n",
    "\n",
    "    df['rate'].fillna(1, inplace=True)\n",
    "\n",
    "    result = 1 \n",
    "    for i in range(len(df)):\n",
    "        result = result * df['rate'][i]\n",
    "\n",
    "    return result"
   ]
  },
  {
   "cell_type": "code",
   "execution_count": 60,
   "id": "669a2835",
   "metadata": {},
   "outputs": [],
   "source": [
    "def expect_rate_v1_each_k(df):\n",
    "    k_list = get_k_list(start=0.05, diff=0.05)\n",
    "    rates = []\n",
    "    for k in k_list:\n",
    "        rate = vb_expect_rate_v1(df=df, k=k)\n",
    "        rates.append(rate)\n",
    "    \n",
    "    out = pd.DataFrame({'rate': rates})\n",
    "    out.index = k_list\n",
    "    \n",
    "    return out"
   ]
  },
  {
   "cell_type": "code",
   "execution_count": null,
   "id": "4f1b24b4",
   "metadata": {},
   "outputs": [],
   "source": [
    "pattern = [100, 90, 80, 70, 90, 120, 140]\n",
    "tickers = get_tickers(fiat='KRW')\n",
    "\n",
    "dfs = []\n",
    "for ticker in tickers:\n",
    "    df = get_ohlcv(ticker, 7)\n",
    "    dfs.append(df['close'])\n",
    "    time.sleep(0.2)\n",
    "    \n",
    "df = pd.concat(dfs, axis=1)\n",
    "df.columns = tickers\n",
    "df['target'] = pattern\n",
    "corr = df.corr()\n",
    "\n",
    "corr.loc['target'].sort_values()"
   ]
  },
  {
   "cell_type": "code",
   "execution_count": null,
   "id": "f81af244",
   "metadata": {},
   "outputs": [],
   "source": []
  }
 ],
 "metadata": {
  "kernelspec": {
   "display_name": "Python 3 (ipykernel)",
   "language": "python",
   "name": "python3"
  },
  "language_info": {
   "codemirror_mode": {
    "name": "ipython",
    "version": 3
   },
   "file_extension": ".py",
   "mimetype": "text/x-python",
   "name": "python",
   "nbconvert_exporter": "python",
   "pygments_lexer": "ipython3",
   "version": "3.9.7"
  }
 },
 "nbformat": 4,
 "nbformat_minor": 5
}
