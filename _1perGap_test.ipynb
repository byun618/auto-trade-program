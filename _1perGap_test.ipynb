{
 "cells": [
  {
   "cell_type": "code",
   "execution_count": 1,
   "id": "ad75c1aa",
   "metadata": {},
   "outputs": [],
   "source": [
    "# 1분 단위로 시가 조회\n",
    "    # 하나의 구간에서 거래된 첫번째 가격\n",
    "# 0.2초 단위로 실시간 매수 여부 판단\n",
    "# 서로 다른 두개의 로직으로 구현"
   ]
  },
  {
   "cell_type": "code",
   "execution_count": 2,
   "id": "42e10739",
   "metadata": {},
   "outputs": [],
   "source": [
    "import time\n",
    "import threading\n",
    "import queue\n",
    "from collections import deque\n",
    "\n",
    "import pyupbit\n",
    "import datetime\n",
    "from pyupbit import get_current_price, get_tickers, get_ohlcv\n",
    "import pandas as pd\n",
    "import warnings\n",
    "warnings.filterwarnings(action='ignore')\n",
    "from plotly.subplots import make_subplots\n",
    "import plotly.graph_objects as go\n",
    "import matplotlib.pyplot as plt"
   ]
  },
  {
   "cell_type": "code",
   "execution_count": 3,
   "id": "0892a27b",
   "metadata": {},
   "outputs": [],
   "source": [
    "class Producer(threading.Thread):\n",
    "    def __init__(self, q):\n",
    "        super().__init__()\n",
    "        self.q = q\n",
    "    \n",
    "    def run(self):\n",
    "        while True:\n",
    "            price = get_current_price('KRW-ADA')\n",
    "            self.q.put(price)\n",
    "            time.sleep(3)"
   ]
  },
  {
   "cell_type": "code",
   "execution_count": 4,
   "id": "928b1cb3",
   "metadata": {},
   "outputs": [],
   "source": [
    "class Consumer(threading.Thread):\n",
    "    def __init__(self, q):\n",
    "        super().__init__()\n",
    "        self.q = q\n",
    "        self.ticker = \"KRW-ADA\"\n",
    "        \n",
    "        self.ma15 = deque(maxlen=15)\n",
    "        self.ma50 = deque(maxlen=50)\n",
    "        self.ma120 = deque(maxlen=120)\n",
    "        \n",
    "        df = get_ohlcv(self.ticker, interval=\"minute1\")\n",
    "        self.ma15.extend(df['close'])\n",
    "        self.ma50.extend(df['close'])\n",
    "        self.ma120.extend(df['close'])\n",
    "        \n",
    "        print(len(self.ma15),len(self.ma50),len(self.ma120))\n",
    "    \n",
    "    def run(self):\n",
    "        price_curr = None\n",
    "        hold_flag = False # false면 매수 전\n",
    "        wait_flag = False # 1분봉에 하나의 매매\n",
    "        \n",
    "        key0 = 'UDgx294CT64wyrhkKJ4dbk8oKnCLaze5qtrM5e0M'\n",
    "        key1 = 'YHbgxjlTzF4KYpwG3Kjhi1M91YpZNSep6aPFWgHO'\n",
    "        \n",
    "        upbit = pyupbit.Upbit(key0, key1)\n",
    "        cash = upbit.get_balance()\n",
    "        print('보유현금', cash)\n",
    "        \n",
    "        while True:\n",
    "            try:\n",
    "            if not self.q.empty():\n",
    "                if price_curr != None:\n",
    "                    self.ma15.append(price_curr)\n",
    "                    self.ma50.append(price_curr)\n",
    "                    self.ma120.append(price_curr)\n",
    "                    \n",
    "                curr_ma15 = sum(self.ma15)/ len(self.ma15)\n",
    "                curr_ma50 = sum(self.ma50)/ len(self.ma50)\n",
    "                curr_ma120 = sum(self.ma120)/ len(self.ma120)\n",
    "                \n",
    "                price_open = self.q.get()\n",
    "                price_buy = price_open * 1.01\n",
    "                price_sell = price_open * 1.02\n",
    "                wait_flag = False\n",
    "                \n",
    "            price_curr = get_current_price(self.ticker)\n",
    "            \n",
    "            if hold_flag == False and wait_flag == False and \\\n",
    "                price_curr >= price_buy and curr_ma15 >= curr_ma50 and \\\n",
    "                curr_ma15 <= curr_ma50 * 1.03 and curr_ma120 <= curr_ma50:\n",
    "                # 0.05%\n",
    "                ret = upbit.buy_marker_order(self.ticker, cash * 0.9995)\n",
    "                print('매수주문', ret)\n",
    "                time.sleep(1)\n",
    "                \n",
    "                volume = upbit.get_balance(self.ticker)\n",
    "                ret = upbit.sell_limit_order(self.ticker, price_sell, volume)\n",
    "                print('매도주문', ret)\n",
    "                hold_flag = True\n",
    "                \n",
    "            if hold_flag == True:\n",
    "                uncomp = upbit.get_order(self.ticker)\n",
    "                if len(uncomp) == 0:\n",
    "                    cash = upbit.get_balance()\n",
    "                    print('매도완료', cash)\n",
    "                    hold_flag = False\n",
    "                    wait_flag = True\n",
    "                    \n",
    "            except:\n",
    "                print(\"error\")\n",
    "                \n",
    "            time.sleep(0.2)"
   ]
  },
  {
   "cell_type": "code",
   "execution_count": 8,
   "id": "43e0c04e",
   "metadata": {},
   "outputs": [
    {
     "name": "stdout",
     "output_type": "stream",
     "text": [
      "15 50 120\n"
     ]
    }
   ],
   "source": [
    "q = queue.Queue()\n",
    "# Producer(q).start()\n",
    "Consumer(q).start()"
   ]
  },
  {
   "cell_type": "code",
   "execution_count": 8,
   "id": "a309a637",
   "metadata": {},
   "outputs": [
    {
     "data": {
      "text/plain": [
       "8648.33561999"
      ]
     },
     "execution_count": 8,
     "metadata": {},
     "output_type": "execute_result"
    }
   ],
   "source": [
    "key0 = 'UDgx294CT64wyrhkKJ4dbk8oKnCLaze5qtrM5e0M'\n",
    "key1 = 'YHbgxjlTzF4KYpwG3Kjhi1M91YpZNSep6aPFWgHO'\n",
    "upbit = pyupbit.Upbit(key0, key1)"
   ]
  },
  {
   "cell_type": "code",
   "execution_count": 9,
   "id": "ff73b4e6",
   "metadata": {},
   "outputs": [
    {
     "data": {
      "text/plain": [
       "8648.33561999"
      ]
     },
     "execution_count": 9,
     "metadata": {},
     "output_type": "execute_result"
    }
   ],
   "source": [
    "cash = upbit.get_balance()\n",
    "cash"
   ]
  },
  {
   "cell_type": "code",
   "execution_count": null,
   "id": "593ba368",
   "metadata": {},
   "outputs": [],
   "source": []
  }
 ],
 "metadata": {
  "kernelspec": {
   "display_name": "Python 3 (ipykernel)",
   "language": "python",
   "name": "python3"
  },
  "language_info": {
   "codemirror_mode": {
    "name": "ipython",
    "version": 3
   },
   "file_extension": ".py",
   "mimetype": "text/x-python",
   "name": "python",
   "nbconvert_exporter": "python",
   "pygments_lexer": "ipython3",
   "version": "3.9.7"
  }
 },
 "nbformat": 4,
 "nbformat_minor": 5
}
