{
 "cells": [
  {
   "cell_type": "code",
   "execution_count": 1,
   "id": "251fb817",
   "metadata": {},
   "outputs": [
    {
     "name": "stdout",
     "output_type": "stream",
     "text": [
      "Requirement already satisfied: pyupbit in /usr/local/anaconda3/lib/python3.9/site-packages (0.2.22)\n",
      "Requirement already satisfied: pyjwt>=2.0.0 in /usr/local/anaconda3/lib/python3.9/site-packages (from pyupbit) (2.1.0)\n",
      "Requirement already satisfied: websockets==9.1 in /usr/local/anaconda3/lib/python3.9/site-packages (from pyupbit) (9.1)\n",
      "Requirement already satisfied: requests in /usr/local/anaconda3/lib/python3.9/site-packages (from pyupbit) (2.26.0)\n",
      "Requirement already satisfied: pandas in /usr/local/anaconda3/lib/python3.9/site-packages (from pyupbit) (1.3.4)\n",
      "Requirement already satisfied: python-dateutil>=2.7.3 in /usr/local/anaconda3/lib/python3.9/site-packages (from pandas->pyupbit) (2.8.2)\n",
      "Requirement already satisfied: pytz>=2017.3 in /usr/local/anaconda3/lib/python3.9/site-packages (from pandas->pyupbit) (2021.3)\n",
      "Requirement already satisfied: numpy>=1.17.3 in /usr/local/anaconda3/lib/python3.9/site-packages (from pandas->pyupbit) (1.20.3)\n",
      "Requirement already satisfied: six>=1.5 in /usr/local/anaconda3/lib/python3.9/site-packages (from python-dateutil>=2.7.3->pandas->pyupbit) (1.16.0)\n",
      "Requirement already satisfied: idna<4,>=2.5 in /usr/local/anaconda3/lib/python3.9/site-packages (from requests->pyupbit) (3.2)\n",
      "Requirement already satisfied: certifi>=2017.4.17 in /usr/local/anaconda3/lib/python3.9/site-packages (from requests->pyupbit) (2021.10.8)\n",
      "Requirement already satisfied: urllib3<1.27,>=1.21.1 in /usr/local/anaconda3/lib/python3.9/site-packages (from requests->pyupbit) (1.26.7)\n",
      "Requirement already satisfied: charset-normalizer~=2.0.0 in /usr/local/anaconda3/lib/python3.9/site-packages (from requests->pyupbit) (2.0.4)\n",
      "Note: you may need to restart the kernel to use updated packages.\n"
     ]
    }
   ],
   "source": [
    "pip install pyupbit"
   ]
  },
  {
   "cell_type": "code",
   "execution_count": 12,
   "id": "4818b417",
   "metadata": {},
   "outputs": [],
   "source": [
    "import pyupbit\n",
    "import time\n",
    "import datetime\n",
    "from pyupbit import get_current_price, get_ohlcv, get_daily_ohlcv_from_base\n",
    "import pandas as pd\n"
   ]
  },
  {
   "cell_type": "code",
   "execution_count": 24,
   "id": "23361b9e",
   "metadata": {},
   "outputs": [],
   "source": [
    "def getBTCCurrentPrice():\n",
    "    while True: \n",
    "        now = datetime.datetime.now()\n",
    "        price = pyupbit.get_current_price(\"KRW-BTC\")\n",
    "        print(now, price)\n",
    "        time.sleep(1)"
   ]
  },
  {
   "cell_type": "code",
   "execution_count": 59,
   "id": "15381311",
   "metadata": {},
   "outputs": [],
   "source": [
    "def get_ohlcv_base(ticker=\"KRW-BTC\", base=0, days=200):\n",
    "    df = get_ohlcv(ticker, interval=\"minute60\", count = days*24)\n",
    "    df = df.resample('24H', base=base).agg({'open': 'first', 'high': 'max', 'low': 'min', 'close': 'last', 'volume': 'sum'})\n",
    "\n",
    "    return df"
   ]
  },
  {
   "cell_type": "code",
   "execution_count": 90,
   "id": "50cb5347",
   "metadata": {
    "scrolled": true
   },
   "outputs": [],
   "source": [
    "def get_expect_rate(df ,k):\n",
    "    df['diff'] = df['high'] - df['low']\n",
    "    df['target'] = df['diff'].shift(1) * k + df['open'] \n",
    "    df['bought'] = df['high'] > df['target']\n",
    "\n",
    "    cond = df['high'] > df['target']\n",
    "    df['rate'] = df.loc[cond, 'close'] / df.loc[cond, 'target']\n",
    "\n",
    "    df.fillna(1, inplace=True)\n",
    "\n",
    "    result = 1 \n",
    "    for i in range(n):\n",
    "        result = result * df['rate'][i]\n",
    "\n",
    "    return result"
   ]
  },
  {
   "cell_type": "code",
   "execution_count": 83,
   "id": "1e650110",
   "metadata": {},
   "outputs": [
    {
     "name": "stdout",
     "output_type": "stream",
     "text": [
      "1.0077227754067613\n"
     ]
    }
   ],
   "source": [
    "df = get_ohlcv(ticker=\"KRW-BTC\", count=200)\n",
    "result = get_expect_rate(df=df, k=0.5)\n",
    "print(result)"
   ]
  },
  {
   "cell_type": "code",
   "execution_count": 84,
   "id": "c68a4834",
   "metadata": {},
   "outputs": [],
   "source": [
    "def get_profits(ticker, n, profit_base):\n",
    "\n",
    "    df = get_ohlcv(ticker, count=n)\n",
    "\n",
    "    for k in kArr: \n",
    "        profit = get_expect_rate(df, k)\n",
    "        if (profit > profit_base):\n",
    "            print(ticker, k, \"profit:\", profit)"
   ]
  },
  {
   "cell_type": "code",
   "execution_count": 91,
   "id": "ac5efbac",
   "metadata": {},
   "outputs": [
    {
     "name": "stdout",
     "output_type": "stream",
     "text": [
      "KRW-BTC in progressing\n",
      "KRW-BTC 0.1 profit: 1.12133670887689\n",
      "KRW-BTC 0.15 profit: 1.4808563422815912\n",
      "KRW-BTC 0.2 profit: 1.4513272688081233\n",
      "KRW-BTC 0.25 profit: 1.4634553056638848\n",
      "KRW-BTC 0.3 profit: 1.5231269833995589\n",
      "KRW-BTC 0.35 profit: 1.2830795047304626\n",
      "KRW-BTC 0.4 profit: 1.2395269763325232\n",
      "KRW-BTC 0.45 profit: 1.1439760609082754\n",
      "KRW-BTC 0.5 profit: 1.0077227754067613\n",
      "KRW-BTC 0.55 profit: 0.998401417813763\n",
      "KRW-BTC 0.6 profit: 1.0215108333290301\n",
      "KRW-BTC 0.65 profit: 1.1401779103250846\n",
      "KRW-BTC 0.7 profit: 1.0391413291655307\n",
      "KRW-BTC 0.75 profit: 1.0165681014850523\n",
      "KRW-BTC 0.8 profit: 1.039294389125564\n",
      "KRW-BTC 0.85 profit: 1.0106697039139596\n",
      "KRW-BTC 0.9 profit: 1.0782561631973362\n",
      "KRW-BTC 0.95 profit: 1.0986636851705063\n",
      "KRW-BTC 1 profit: 1.0650040787891133\n"
     ]
    },
    {
     "ename": "KeyboardInterrupt",
     "evalue": "",
     "output_type": "error",
     "traceback": [
      "\u001b[0;31m---------------------------------------------------------------------------\u001b[0m",
      "\u001b[0;31mKeyboardInterrupt\u001b[0m                         Traceback (most recent call last)",
      "\u001b[0;32m/var/folders/hp/zrt87wwj7rd6p935gh9d5lfr0000gn/T/ipykernel_8467/672285855.py\u001b[0m in \u001b[0;36m<module>\u001b[0;34m\u001b[0m\n\u001b[1;32m      7\u001b[0m     \u001b[0mprint\u001b[0m\u001b[0;34m(\u001b[0m\u001b[0mticker\u001b[0m\u001b[0;34m,\u001b[0m \u001b[0;34m'in progressing'\u001b[0m\u001b[0;34m)\u001b[0m\u001b[0;34m\u001b[0m\u001b[0;34m\u001b[0m\u001b[0m\n\u001b[1;32m      8\u001b[0m     \u001b[0mget_profits\u001b[0m\u001b[0;34m(\u001b[0m\u001b[0mticker\u001b[0m\u001b[0;34m,\u001b[0m \u001b[0mn\u001b[0m\u001b[0;34m,\u001b[0m \u001b[0mprofit_base\u001b[0m\u001b[0;34m)\u001b[0m\u001b[0;34m\u001b[0m\u001b[0;34m\u001b[0m\u001b[0m\n\u001b[0;32m----> 9\u001b[0;31m     \u001b[0mtime\u001b[0m\u001b[0;34m.\u001b[0m\u001b[0msleep\u001b[0m\u001b[0;34m(\u001b[0m\u001b[0;36m1\u001b[0m\u001b[0;34m)\u001b[0m\u001b[0;34m\u001b[0m\u001b[0;34m\u001b[0m\u001b[0m\n\u001b[0m",
      "\u001b[0;31mKeyboardInterrupt\u001b[0m: "
     ]
    }
   ],
   "source": [
    "kArr = [0.1,0.15,0.2,0.25,0.3,0.35,0.4,0.45,0.5,0.55,0.6,0.65,0.7,0.75,0.8,0.85,0.9,0.95,1]\n",
    "n = 200 # day count\n",
    "profit_base = 0.01\n",
    "tickers = pyupbit.get_tickers(fiat=\"KRW\")\n",
    "\n",
    "for ticker in tickers:\n",
    "    print(ticker, 'in progressing')\n",
    "    get_profits(ticker, n, profit_base)\n",
    "    time.sleep(1)"
   ]
  },
  {
   "cell_type": "code",
   "execution_count": 49,
   "id": "c854d119",
   "metadata": {},
   "outputs": [
    {
     "name": "stderr",
     "output_type": "stream",
     "text": [
      "/var/folders/hp/zrt87wwj7rd6p935gh9d5lfr0000gn/T/ipykernel_8467/3187885468.py:3: FutureWarning: 'base' in .resample() and in Grouper() is deprecated.\n",
      "The new arguments that you should use are 'offset' or 'origin'.\n",
      "\n",
      ">>> df.resample(freq=\"3s\", base=2)\n",
      "\n",
      "becomes:\n",
      "\n",
      ">>> df.resample(freq=\"3s\", offset=\"2s\")\n",
      "\n",
      "  df = df.resample('24H', base=10).agg({'open': 'first', 'high': 'max', 'low': 'min', 'close': 'last', 'volume': 'sum'})\n"
     ]
    },
    {
     "data": {
      "text/html": [
       "<div>\n",
       "<style scoped>\n",
       "    .dataframe tbody tr th:only-of-type {\n",
       "        vertical-align: middle;\n",
       "    }\n",
       "\n",
       "    .dataframe tbody tr th {\n",
       "        vertical-align: top;\n",
       "    }\n",
       "\n",
       "    .dataframe thead th {\n",
       "        text-align: right;\n",
       "    }\n",
       "</style>\n",
       "<table border=\"1\" class=\"dataframe\">\n",
       "  <thead>\n",
       "    <tr style=\"text-align: right;\">\n",
       "      <th></th>\n",
       "      <th>open</th>\n",
       "      <th>high</th>\n",
       "      <th>low</th>\n",
       "      <th>close</th>\n",
       "      <th>volume</th>\n",
       "    </tr>\n",
       "  </thead>\n",
       "  <tbody>\n",
       "    <tr>\n",
       "      <th>2021-07-15 10:00:00</th>\n",
       "      <td>38290000.0</td>\n",
       "      <td>38350000.0</td>\n",
       "      <td>37088000.0</td>\n",
       "      <td>37361000.0</td>\n",
       "      <td>4548.828923</td>\n",
       "    </tr>\n",
       "    <tr>\n",
       "      <th>2021-07-16 10:00:00</th>\n",
       "      <td>37361000.0</td>\n",
       "      <td>38053000.0</td>\n",
       "      <td>36750000.0</td>\n",
       "      <td>37337000.0</td>\n",
       "      <td>5753.006740</td>\n",
       "    </tr>\n",
       "    <tr>\n",
       "      <th>2021-07-17 10:00:00</th>\n",
       "      <td>37350000.0</td>\n",
       "      <td>37800000.0</td>\n",
       "      <td>36846000.0</td>\n",
       "      <td>37621000.0</td>\n",
       "      <td>3481.695703</td>\n",
       "    </tr>\n",
       "    <tr>\n",
       "      <th>2021-07-18 10:00:00</th>\n",
       "      <td>37621000.0</td>\n",
       "      <td>38172000.0</td>\n",
       "      <td>37000000.0</td>\n",
       "      <td>37462000.0</td>\n",
       "      <td>3531.496216</td>\n",
       "    </tr>\n",
       "    <tr>\n",
       "      <th>2021-07-19 10:00:00</th>\n",
       "      <td>37435000.0</td>\n",
       "      <td>37670000.0</td>\n",
       "      <td>36500000.0</td>\n",
       "      <td>36619000.0</td>\n",
       "      <td>4224.764035</td>\n",
       "    </tr>\n",
       "    <tr>\n",
       "      <th>...</th>\n",
       "      <td>...</td>\n",
       "      <td>...</td>\n",
       "      <td>...</td>\n",
       "      <td>...</td>\n",
       "      <td>...</td>\n",
       "    </tr>\n",
       "    <tr>\n",
       "      <th>2022-01-26 10:00:00</th>\n",
       "      <td>44669000.0</td>\n",
       "      <td>47460000.0</td>\n",
       "      <td>44521000.0</td>\n",
       "      <td>45478000.0</td>\n",
       "      <td>10112.200547</td>\n",
       "    </tr>\n",
       "    <tr>\n",
       "      <th>2022-01-27 10:00:00</th>\n",
       "      <td>45470000.0</td>\n",
       "      <td>46100000.0</td>\n",
       "      <td>43786000.0</td>\n",
       "      <td>45709000.0</td>\n",
       "      <td>7561.434137</td>\n",
       "    </tr>\n",
       "    <tr>\n",
       "      <th>2022-01-28 10:00:00</th>\n",
       "      <td>45709000.0</td>\n",
       "      <td>46951000.0</td>\n",
       "      <td>45060000.0</td>\n",
       "      <td>46779000.0</td>\n",
       "      <td>5438.916282</td>\n",
       "    </tr>\n",
       "    <tr>\n",
       "      <th>2022-01-29 10:00:00</th>\n",
       "      <td>46779000.0</td>\n",
       "      <td>47746000.0</td>\n",
       "      <td>46180000.0</td>\n",
       "      <td>46896000.0</td>\n",
       "      <td>3985.916614</td>\n",
       "    </tr>\n",
       "    <tr>\n",
       "      <th>2022-01-30 10:00:00</th>\n",
       "      <td>46896000.0</td>\n",
       "      <td>47440000.0</td>\n",
       "      <td>46849000.0</td>\n",
       "      <td>47115000.0</td>\n",
       "      <td>1388.256989</td>\n",
       "    </tr>\n",
       "  </tbody>\n",
       "</table>\n",
       "<p>200 rows × 5 columns</p>\n",
       "</div>"
      ],
      "text/plain": [
       "                           open        high         low       close  \\\n",
       "2021-07-15 10:00:00  38290000.0  38350000.0  37088000.0  37361000.0   \n",
       "2021-07-16 10:00:00  37361000.0  38053000.0  36750000.0  37337000.0   \n",
       "2021-07-17 10:00:00  37350000.0  37800000.0  36846000.0  37621000.0   \n",
       "2021-07-18 10:00:00  37621000.0  38172000.0  37000000.0  37462000.0   \n",
       "2021-07-19 10:00:00  37435000.0  37670000.0  36500000.0  36619000.0   \n",
       "...                         ...         ...         ...         ...   \n",
       "2022-01-26 10:00:00  44669000.0  47460000.0  44521000.0  45478000.0   \n",
       "2022-01-27 10:00:00  45470000.0  46100000.0  43786000.0  45709000.0   \n",
       "2022-01-28 10:00:00  45709000.0  46951000.0  45060000.0  46779000.0   \n",
       "2022-01-29 10:00:00  46779000.0  47746000.0  46180000.0  46896000.0   \n",
       "2022-01-30 10:00:00  46896000.0  47440000.0  46849000.0  47115000.0   \n",
       "\n",
       "                           volume  \n",
       "2021-07-15 10:00:00   4548.828923  \n",
       "2021-07-16 10:00:00   5753.006740  \n",
       "2021-07-17 10:00:00   3481.695703  \n",
       "2021-07-18 10:00:00   3531.496216  \n",
       "2021-07-19 10:00:00   4224.764035  \n",
       "...                           ...  \n",
       "2022-01-26 10:00:00  10112.200547  \n",
       "2022-01-27 10:00:00   7561.434137  \n",
       "2022-01-28 10:00:00   5438.916282  \n",
       "2022-01-29 10:00:00   3985.916614  \n",
       "2022-01-30 10:00:00   1388.256989  \n",
       "\n",
       "[200 rows x 5 columns]"
      ]
     },
     "execution_count": 49,
     "metadata": {},
     "output_type": "execute_result"
    }
   ],
   "source": [
    "df = get_ohlcv_base(ticker=\"KRW-BTC\", base=10, days=199)\n",
    "df"
   ]
  },
  {
   "cell_type": "code",
   "execution_count": 50,
   "id": "a6df3281",
   "metadata": {},
   "outputs": [
    {
     "data": {
      "text/plain": [
       "1.2511638117078159"
      ]
     },
     "execution_count": 50,
     "metadata": {},
     "output_type": "execute_result"
    }
   ],
   "source": [
    "get_expect_rate(df, 0.5)"
   ]
  },
  {
   "cell_type": "code",
   "execution_count": 52,
   "id": "67b14848",
   "metadata": {},
   "outputs": [
    {
     "data": {
      "text/html": [
       "<div>\n",
       "<style scoped>\n",
       "    .dataframe tbody tr th:only-of-type {\n",
       "        vertical-align: middle;\n",
       "    }\n",
       "\n",
       "    .dataframe tbody tr th {\n",
       "        vertical-align: top;\n",
       "    }\n",
       "\n",
       "    .dataframe thead th {\n",
       "        text-align: right;\n",
       "    }\n",
       "</style>\n",
       "<table border=\"1\" class=\"dataframe\">\n",
       "  <thead>\n",
       "    <tr style=\"text-align: right;\">\n",
       "      <th></th>\n",
       "      <th>open</th>\n",
       "      <th>high</th>\n",
       "      <th>low</th>\n",
       "      <th>close</th>\n",
       "      <th>volume</th>\n",
       "      <th>value</th>\n",
       "    </tr>\n",
       "  </thead>\n",
       "  <tbody>\n",
       "    <tr>\n",
       "      <th>2021-07-15 09:00:00</th>\n",
       "      <td>38590000.0</td>\n",
       "      <td>39045000.0</td>\n",
       "      <td>37088000.0</td>\n",
       "      <td>37606000.0</td>\n",
       "      <td>7363.607081</td>\n",
       "      <td>2.803988e+11</td>\n",
       "    </tr>\n",
       "    <tr>\n",
       "      <th>2021-07-16 09:00:00</th>\n",
       "      <td>37606000.0</td>\n",
       "      <td>38053000.0</td>\n",
       "      <td>36750000.0</td>\n",
       "      <td>37199000.0</td>\n",
       "      <td>5695.873913</td>\n",
       "      <td>2.131135e+11</td>\n",
       "    </tr>\n",
       "    <tr>\n",
       "      <th>2021-07-17 09:00:00</th>\n",
       "      <td>37199000.0</td>\n",
       "      <td>37800000.0</td>\n",
       "      <td>36824000.0</td>\n",
       "      <td>37205000.0</td>\n",
       "      <td>3533.685160</td>\n",
       "      <td>1.316127e+11</td>\n",
       "    </tr>\n",
       "    <tr>\n",
       "      <th>2021-07-18 09:00:00</th>\n",
       "      <td>37205000.0</td>\n",
       "      <td>38172000.0</td>\n",
       "      <td>37000000.0</td>\n",
       "      <td>37663000.0</td>\n",
       "      <td>3688.509141</td>\n",
       "      <td>1.384656e+11</td>\n",
       "    </tr>\n",
       "    <tr>\n",
       "      <th>2021-07-19 09:00:00</th>\n",
       "      <td>37663000.0</td>\n",
       "      <td>37704000.0</td>\n",
       "      <td>36500000.0</td>\n",
       "      <td>36799000.0</td>\n",
       "      <td>4208.487957</td>\n",
       "      <td>1.558620e+11</td>\n",
       "    </tr>\n",
       "    <tr>\n",
       "      <th>...</th>\n",
       "      <td>...</td>\n",
       "      <td>...</td>\n",
       "      <td>...</td>\n",
       "      <td>...</td>\n",
       "      <td>...</td>\n",
       "      <td>...</td>\n",
       "    </tr>\n",
       "    <tr>\n",
       "      <th>2022-01-26 09:00:00</th>\n",
       "      <td>44905000.0</td>\n",
       "      <td>47460000.0</td>\n",
       "      <td>44520000.0</td>\n",
       "      <td>45100000.0</td>\n",
       "      <td>10144.394427</td>\n",
       "      <td>4.655031e+11</td>\n",
       "    </tr>\n",
       "    <tr>\n",
       "      <th>2022-01-27 09:00:00</th>\n",
       "      <td>45100000.0</td>\n",
       "      <td>45844000.0</td>\n",
       "      <td>43786000.0</td>\n",
       "      <td>45809000.0</td>\n",
       "      <td>7488.144801</td>\n",
       "      <td>3.350130e+11</td>\n",
       "    </tr>\n",
       "    <tr>\n",
       "      <th>2022-01-28 09:00:00</th>\n",
       "      <td>45800000.0</td>\n",
       "      <td>46890000.0</td>\n",
       "      <td>45060000.0</td>\n",
       "      <td>46588000.0</td>\n",
       "      <td>5565.154275</td>\n",
       "      <td>2.547627e+11</td>\n",
       "    </tr>\n",
       "    <tr>\n",
       "      <th>2022-01-29 09:00:00</th>\n",
       "      <td>46592000.0</td>\n",
       "      <td>47746000.0</td>\n",
       "      <td>46180000.0</td>\n",
       "      <td>47146000.0</td>\n",
       "      <td>3980.167762</td>\n",
       "      <td>1.862863e+11</td>\n",
       "    </tr>\n",
       "    <tr>\n",
       "      <th>2022-01-30 09:00:00</th>\n",
       "      <td>47144000.0</td>\n",
       "      <td>47440000.0</td>\n",
       "      <td>46730000.0</td>\n",
       "      <td>47111000.0</td>\n",
       "      <td>1674.784615</td>\n",
       "      <td>7.893407e+10</td>\n",
       "    </tr>\n",
       "  </tbody>\n",
       "</table>\n",
       "<p>200 rows × 6 columns</p>\n",
       "</div>"
      ],
      "text/plain": [
       "                           open        high         low       close  \\\n",
       "2021-07-15 09:00:00  38590000.0  39045000.0  37088000.0  37606000.0   \n",
       "2021-07-16 09:00:00  37606000.0  38053000.0  36750000.0  37199000.0   \n",
       "2021-07-17 09:00:00  37199000.0  37800000.0  36824000.0  37205000.0   \n",
       "2021-07-18 09:00:00  37205000.0  38172000.0  37000000.0  37663000.0   \n",
       "2021-07-19 09:00:00  37663000.0  37704000.0  36500000.0  36799000.0   \n",
       "...                         ...         ...         ...         ...   \n",
       "2022-01-26 09:00:00  44905000.0  47460000.0  44520000.0  45100000.0   \n",
       "2022-01-27 09:00:00  45100000.0  45844000.0  43786000.0  45809000.0   \n",
       "2022-01-28 09:00:00  45800000.0  46890000.0  45060000.0  46588000.0   \n",
       "2022-01-29 09:00:00  46592000.0  47746000.0  46180000.0  47146000.0   \n",
       "2022-01-30 09:00:00  47144000.0  47440000.0  46730000.0  47111000.0   \n",
       "\n",
       "                           volume         value  \n",
       "2021-07-15 09:00:00   7363.607081  2.803988e+11  \n",
       "2021-07-16 09:00:00   5695.873913  2.131135e+11  \n",
       "2021-07-17 09:00:00   3533.685160  1.316127e+11  \n",
       "2021-07-18 09:00:00   3688.509141  1.384656e+11  \n",
       "2021-07-19 09:00:00   4208.487957  1.558620e+11  \n",
       "...                           ...           ...  \n",
       "2022-01-26 09:00:00  10144.394427  4.655031e+11  \n",
       "2022-01-27 09:00:00   7488.144801  3.350130e+11  \n",
       "2022-01-28 09:00:00   5565.154275  2.547627e+11  \n",
       "2022-01-29 09:00:00   3980.167762  1.862863e+11  \n",
       "2022-01-30 09:00:00   1674.784615  7.893407e+10  \n",
       "\n",
       "[200 rows x 6 columns]"
      ]
     },
     "execution_count": 52,
     "metadata": {},
     "output_type": "execute_result"
    }
   ],
   "source": [
    "df1 = get_ohlcv()\n",
    "df1"
   ]
  },
  {
   "cell_type": "code",
   "execution_count": 54,
   "id": "d15a1e9d",
   "metadata": {},
   "outputs": [
    {
     "data": {
      "text/plain": [
       "1.0784961669112554"
      ]
     },
     "execution_count": 54,
     "metadata": {},
     "output_type": "execute_result"
    }
   ],
   "source": [
    "get_expect_rate(df1, 0.5)"
   ]
  },
  {
   "cell_type": "code",
   "execution_count": 60,
   "id": "5699cc5f",
   "metadata": {},
   "outputs": [
    {
     "name": "stderr",
     "output_type": "stream",
     "text": [
      "/var/folders/hp/zrt87wwj7rd6p935gh9d5lfr0000gn/T/ipykernel_8467/3510957803.py:3: FutureWarning: 'base' in .resample() and in Grouper() is deprecated.\n",
      "The new arguments that you should use are 'offset' or 'origin'.\n",
      "\n",
      ">>> df.resample(freq=\"3s\", base=2)\n",
      "\n",
      "becomes:\n",
      "\n",
      ">>> df.resample(freq=\"3s\", offset=\"2s\")\n",
      "\n",
      "  df = df.resample('24H', base=base).agg({'open': 'first', 'high': 'max', 'low': 'min', 'close': 'last', 'volume': 'sum'})\n"
     ]
    },
    {
     "data": {
      "text/html": [
       "<div>\n",
       "<style scoped>\n",
       "    .dataframe tbody tr th:only-of-type {\n",
       "        vertical-align: middle;\n",
       "    }\n",
       "\n",
       "    .dataframe tbody tr th {\n",
       "        vertical-align: top;\n",
       "    }\n",
       "\n",
       "    .dataframe thead th {\n",
       "        text-align: right;\n",
       "    }\n",
       "</style>\n",
       "<table border=\"1\" class=\"dataframe\">\n",
       "  <thead>\n",
       "    <tr style=\"text-align: right;\">\n",
       "      <th></th>\n",
       "      <th>open</th>\n",
       "      <th>high</th>\n",
       "      <th>low</th>\n",
       "      <th>close</th>\n",
       "      <th>volume</th>\n",
       "    </tr>\n",
       "  </thead>\n",
       "  <tbody>\n",
       "    <tr>\n",
       "      <th>2021-07-15 11:00:00</th>\n",
       "      <td>38290000.0</td>\n",
       "      <td>38350000.0</td>\n",
       "      <td>37088000.0</td>\n",
       "      <td>37647000.0</td>\n",
       "      <td>4779.606302</td>\n",
       "    </tr>\n",
       "    <tr>\n",
       "      <th>2021-07-16 11:00:00</th>\n",
       "      <td>37647000.0</td>\n",
       "      <td>38053000.0</td>\n",
       "      <td>36750000.0</td>\n",
       "      <td>37125000.0</td>\n",
       "      <td>5809.614256</td>\n",
       "    </tr>\n",
       "    <tr>\n",
       "      <th>2021-07-17 11:00:00</th>\n",
       "      <td>37125000.0</td>\n",
       "      <td>38172000.0</td>\n",
       "      <td>36862000.0</td>\n",
       "      <td>37951000.0</td>\n",
       "      <td>3773.305265</td>\n",
       "    </tr>\n",
       "    <tr>\n",
       "      <th>2021-07-18 11:00:00</th>\n",
       "      <td>37952000.0</td>\n",
       "      <td>38011000.0</td>\n",
       "      <td>37000000.0</td>\n",
       "      <td>37425000.0</td>\n",
       "      <td>3082.555548</td>\n",
       "    </tr>\n",
       "    <tr>\n",
       "      <th>2021-07-19 11:00:00</th>\n",
       "      <td>37426000.0</td>\n",
       "      <td>37670000.0</td>\n",
       "      <td>36332000.0</td>\n",
       "      <td>36402000.0</td>\n",
       "      <td>4529.474894</td>\n",
       "    </tr>\n",
       "    <tr>\n",
       "      <th>...</th>\n",
       "      <td>...</td>\n",
       "      <td>...</td>\n",
       "      <td>...</td>\n",
       "      <td>...</td>\n",
       "      <td>...</td>\n",
       "    </tr>\n",
       "    <tr>\n",
       "      <th>2022-01-26 11:00:00</th>\n",
       "      <td>44997000.0</td>\n",
       "      <td>47460000.0</td>\n",
       "      <td>44025000.0</td>\n",
       "      <td>44069000.0</td>\n",
       "      <td>10410.816641</td>\n",
       "    </tr>\n",
       "    <tr>\n",
       "      <th>2022-01-27 11:00:00</th>\n",
       "      <td>44068000.0</td>\n",
       "      <td>46100000.0</td>\n",
       "      <td>43786000.0</td>\n",
       "      <td>45564000.0</td>\n",
       "      <td>7404.689888</td>\n",
       "    </tr>\n",
       "    <tr>\n",
       "      <th>2022-01-28 11:00:00</th>\n",
       "      <td>45566000.0</td>\n",
       "      <td>46951000.0</td>\n",
       "      <td>45060000.0</td>\n",
       "      <td>46461000.0</td>\n",
       "      <td>5325.244938</td>\n",
       "    </tr>\n",
       "    <tr>\n",
       "      <th>2022-01-29 11:00:00</th>\n",
       "      <td>46461000.0</td>\n",
       "      <td>47746000.0</td>\n",
       "      <td>46180000.0</td>\n",
       "      <td>47030000.0</td>\n",
       "      <td>3858.329668</td>\n",
       "    </tr>\n",
       "    <tr>\n",
       "      <th>2022-01-30 11:00:00</th>\n",
       "      <td>47045000.0</td>\n",
       "      <td>47440000.0</td>\n",
       "      <td>46998000.0</td>\n",
       "      <td>47104000.0</td>\n",
       "      <td>1276.907003</td>\n",
       "    </tr>\n",
       "  </tbody>\n",
       "</table>\n",
       "<p>200 rows × 5 columns</p>\n",
       "</div>"
      ],
      "text/plain": [
       "                           open        high         low       close  \\\n",
       "2021-07-15 11:00:00  38290000.0  38350000.0  37088000.0  37647000.0   \n",
       "2021-07-16 11:00:00  37647000.0  38053000.0  36750000.0  37125000.0   \n",
       "2021-07-17 11:00:00  37125000.0  38172000.0  36862000.0  37951000.0   \n",
       "2021-07-18 11:00:00  37952000.0  38011000.0  37000000.0  37425000.0   \n",
       "2021-07-19 11:00:00  37426000.0  37670000.0  36332000.0  36402000.0   \n",
       "...                         ...         ...         ...         ...   \n",
       "2022-01-26 11:00:00  44997000.0  47460000.0  44025000.0  44069000.0   \n",
       "2022-01-27 11:00:00  44068000.0  46100000.0  43786000.0  45564000.0   \n",
       "2022-01-28 11:00:00  45566000.0  46951000.0  45060000.0  46461000.0   \n",
       "2022-01-29 11:00:00  46461000.0  47746000.0  46180000.0  47030000.0   \n",
       "2022-01-30 11:00:00  47045000.0  47440000.0  46998000.0  47104000.0   \n",
       "\n",
       "                           volume  \n",
       "2021-07-15 11:00:00   4779.606302  \n",
       "2021-07-16 11:00:00   5809.614256  \n",
       "2021-07-17 11:00:00   3773.305265  \n",
       "2021-07-18 11:00:00   3082.555548  \n",
       "2021-07-19 11:00:00   4529.474894  \n",
       "...                           ...  \n",
       "2022-01-26 11:00:00  10410.816641  \n",
       "2022-01-27 11:00:00   7404.689888  \n",
       "2022-01-28 11:00:00   5325.244938  \n",
       "2022-01-29 11:00:00   3858.329668  \n",
       "2022-01-30 11:00:00   1276.907003  \n",
       "\n",
       "[200 rows x 5 columns]"
      ]
     },
     "execution_count": 60,
     "metadata": {},
     "output_type": "execute_result"
    }
   ],
   "source": [
    "df2 = get_ohlcv_base(ticker=\"KRW-BTC\", base=11, days=199)\n",
    "df2"
   ]
  },
  {
   "cell_type": "code",
   "execution_count": 61,
   "id": "285bac1a",
   "metadata": {},
   "outputs": [
    {
     "data": {
      "text/plain": [
       "1.4020573114836372"
      ]
     },
     "execution_count": 61,
     "metadata": {},
     "output_type": "execute_result"
    }
   ],
   "source": [
    "get_expect_rate(df2, 0.5)"
   ]
  },
  {
   "cell_type": "code",
   "execution_count": 66,
   "id": "6bf47e5b",
   "metadata": {},
   "outputs": [],
   "source": [
    "def base_profit(ticker=\"KRW-BTC\", base=10, days=199):\n",
    "    df = get_ohlcv_base(ticker=ticker, base=base, days=days)\n",
    "    rate = get_expect_rate(df, 0.5)\n",
    "    return rate"
   ]
  },
  {
   "cell_type": "code",
   "execution_count": 71,
   "id": "fe05b7c8",
   "metadata": {},
   "outputs": [
    {
     "name": "stderr",
     "output_type": "stream",
     "text": [
      "/var/folders/hp/zrt87wwj7rd6p935gh9d5lfr0000gn/T/ipykernel_8467/3510957803.py:3: FutureWarning: 'base' in .resample() and in Grouper() is deprecated.\n",
      "The new arguments that you should use are 'offset' or 'origin'.\n",
      "\n",
      ">>> df.resample(freq=\"3s\", base=2)\n",
      "\n",
      "becomes:\n",
      "\n",
      ">>> df.resample(freq=\"3s\", offset=\"2s\")\n",
      "\n",
      "  df = df.resample('24H', base=base).agg({'open': 'first', 'high': 'max', 'low': 'min', 'close': 'last', 'volume': 'sum'})\n"
     ]
    },
    {
     "name": "stdout",
     "output_type": "stream",
     "text": [
      "btc 09 1.0784961669112554\n",
      "btc 10 1.2511638117078159\n",
      "btc 11 1.4020573114836372\n"
     ]
    }
   ],
   "source": [
    "btc = get_ohlcv(ticker=\"KRW-BTC\", count=200)\n",
    "BTC_profit_09 = get_expect_rate(btc, 0.5)\n",
    "BTC_profit_10 = base_profit(base=10)\n",
    "BTC_profit_11 = base_profit(base=11)\n",
    "\n",
    "print('btc 09', BTC_profit_09)\n",
    "print('btc 10', BTC_profit_10)\n",
    "print('btc 11', BTC_profit_11)"
   ]
  },
  {
   "cell_type": "code",
   "execution_count": 74,
   "id": "6b0fa789",
   "metadata": {},
   "outputs": [
    {
     "name": "stderr",
     "output_type": "stream",
     "text": [
      "/var/folders/hp/zrt87wwj7rd6p935gh9d5lfr0000gn/T/ipykernel_8467/3510957803.py:3: FutureWarning: 'base' in .resample() and in Grouper() is deprecated.\n",
      "The new arguments that you should use are 'offset' or 'origin'.\n",
      "\n",
      ">>> df.resample(freq=\"3s\", base=2)\n",
      "\n",
      "becomes:\n",
      "\n",
      ">>> df.resample(freq=\"3s\", offset=\"2s\")\n",
      "\n",
      "  df = df.resample('24H', base=base).agg({'open': 'first', 'high': 'max', 'low': 'min', 'close': 'last', 'volume': 'sum'})\n"
     ]
    },
    {
     "name": "stdout",
     "output_type": "stream",
     "text": [
      "eth 09 1.234686212123293\n",
      "eth 10 1.2945451533016803\n",
      "eth 11 1.3171875735954433\n"
     ]
    }
   ],
   "source": [
    "eth = get_ohlcv(ticker=\"KRW-ETH\", count=200)\n",
    "ETH_profit_09 = get_expect_rate(eth, 0.5)\n",
    "ETH_profit_10 = base_profit(ticker=\"KRW-ETH\", base=10)\n",
    "ETH_profit_11 = base_profit(ticker=\"KRW-ETH\", base=11)\n",
    "\n",
    "print('eth 09', ETH_profit_09)\n",
    "print('eth 10', ETH_profit_10)\n",
    "print('eth 11', ETH_profit_11)"
   ]
  },
  {
   "cell_type": "code",
   "execution_count": null,
   "id": "09d026f7",
   "metadata": {},
   "outputs": [],
   "source": []
  }
 ],
 "metadata": {
  "kernelspec": {
   "display_name": "Python 3 (ipykernel)",
   "language": "python",
   "name": "python3"
  },
  "language_info": {
   "codemirror_mode": {
    "name": "ipython",
    "version": 3
   },
   "file_extension": ".py",
   "mimetype": "text/x-python",
   "name": "python",
   "nbconvert_exporter": "python",
   "pygments_lexer": "ipython3",
   "version": "3.9.7"
  }
 },
 "nbformat": 4,
 "nbformat_minor": 5
}
